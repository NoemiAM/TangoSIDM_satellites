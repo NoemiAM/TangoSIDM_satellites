{
 "cells": [
  {
   "cell_type": "markdown",
   "id": "33870c2f",
   "metadata": {},
   "source": [
    "# Vmax - Rmax"
   ]
  },
  {
   "cell_type": "code",
   "execution_count": 1,
   "id": "48c315c7",
   "metadata": {},
   "outputs": [],
   "source": [
    "import matplotlib.pyplot as plt\n",
    "import numpy as np\n",
    "import h5py\n",
    "import matplotlib"
   ]
  },
  {
   "cell_type": "code",
   "execution_count": 2,
   "id": "5eede6df",
   "metadata": {},
   "outputs": [],
   "source": [
    "DATA_PATH = \"../data/TangoSIDM/\"\n",
    "\n",
    "IDs = {\n",
    "    \"SigmaConstant00\": \"CDM\",\n",
    "    \"SigmaConstant01\": \"SigmaConstant01\",\n",
    "    \"SigmaConstant10\": \"SigmaConstant10\",\n",
    "    \"SigmaVelDep20Anisotropic\": \"SigmaVel20\",\n",
    "    \"SigmaVelDep60Anisotropic\": \"SigmaVel60\", \n",
    "    \"SigmaVelDep100Anisotropic\": \"SigmaVel100\",\n",
    "}"
   ]
  },
  {
   "cell_type": "code",
   "execution_count": 3,
   "id": "6df83014",
   "metadata": {},
   "outputs": [
    {
     "name": "stdout",
     "output_type": "stream",
     "text": [
      "\n",
      " \n",
      "CDM\n",
      "Excluded 0 / 714\n",
      "Outside 40/ 714\n",
      "\n",
      " \n",
      "SigmaConstant01\n",
      "Excluded 0 / 693\n",
      "Outside 32/ 693\n",
      "\n",
      " \n",
      "SigmaConstant10\n",
      "Excluded 0 / 651\n",
      "Outside 33/ 651\n",
      "\n",
      " \n",
      "SigmaVel20\n",
      "Excluded 0 / 693\n",
      "Outside 36/ 693\n",
      "\n",
      " \n",
      "SigmaVel60\n",
      "Excluded 0 / 693\n",
      "Outside 34/ 693\n",
      "\n",
      " \n",
      "SigmaVel100\n",
      "Excluded 0 / 693\n",
      "Outside 34/ 693\n"
     ]
    }
   ],
   "source": [
    "for id, id_name in IDs.items():\n",
    "    print(f\"\\n \\n{id_name}\")\n",
    "    c_res = 0\n",
    "    c_outside = 0\n",
    "    c_tot = 0\n",
    "    file = h5py.File(DATA_PATH+f\"{id}.hdf5\", \"r\")\n",
    "    for idx in file.keys():\n",
    "        halo_data = file[f'{idx}'][\"halo_data\"]\n",
    "        density = halo_data[\"dm_density\"]\n",
    "        centers = halo_data[\"centered_radial_bins\"]\n",
    "        rotation = halo_data[\"dm_rotation\"][:]\n",
    "        centers_rotation = halo_data[\"centered_rotation_radial_bins\"][:]\n",
    "        tree_data = file[f'{idx}'][\"tree_data\"]\n",
    "        Vmax = tree_data[\"Vmax\"][0]   \n",
    "        \n",
    "        idx = np.abs(rotation - Vmax).argmin()\n",
    "        Rmax = centers_rotation[idx] \n",
    "        c_tot+=1\n",
    "        if Rmax < 0.650: c_res+1\n",
    "\n",
    "        if np.abs(rotation - Vmax).min()>1:\n",
    "            c_outside +=1\n",
    "            # plt.figure(figsize=(4,4))\n",
    "            # plt.plot(centers_rotation, rotation)\n",
    "            # plt.scatter(Rmax, Vmax)\n",
    "            # plt.axvline(0.650, c='k')\n",
    "            # plt.xscale(\"log\")\n",
    "            # plt.xlabel(\"Radius [kpc]\")\n",
    "            # plt.ylabel(\"Circular velocity [km/s]\")\n",
    "            # plt.tick_params(direction='in', axis='both', which='both', pad=4.5)\n",
    "            # plt.tight_layout()\n",
    "            # plt.show()\n",
    "        \n",
    "    print(f\"Excluded {c_res} / {c_tot}\")\n",
    "    print(f\"Outside {c_outside}/ {c_tot}\")\n",
    "    file.close()"
   ]
  },
  {
   "cell_type": "markdown",
   "id": "ec45e57f",
   "metadata": {},
   "source": [
    "Add Rmax at z=0 data to datasets"
   ]
  },
  {
   "cell_type": "code",
   "execution_count": 4,
   "id": "39ac1ccd",
   "metadata": {},
   "outputs": [
    {
     "name": "stdout",
     "output_type": "stream",
     "text": [
      "\n",
      " \n",
      "CDM\n",
      "Rmax included for 674 / 714\n",
      "\n",
      " \n",
      "SigmaConstant01\n",
      "Rmax included for 661 / 693\n",
      "\n",
      " \n",
      "SigmaConstant10\n",
      "Rmax included for 618 / 651\n",
      "\n",
      " \n",
      "SigmaVel20\n",
      "Rmax included for 657 / 693\n",
      "\n",
      " \n",
      "SigmaVel60\n",
      "Rmax included for 659 / 693\n",
      "\n",
      " \n",
      "SigmaVel100\n",
      "Rmax included for 659 / 693\n"
     ]
    }
   ],
   "source": [
    "for id, id_name in IDs.items():\n",
    "    print(f\"\\n \\n{id_name}\")\n",
    "    c_ok = 0\n",
    "    c_tot = 0\n",
    "    file = h5py.File(DATA_PATH+f\"{id}.hdf5\", \"a\")\n",
    "    for idx in file.keys():\n",
    "        c_tot+=1\n",
    "        halo_data = file[f'{idx}'][\"halo_data\"]\n",
    "        rotation = halo_data[\"dm_rotation\"][:]\n",
    "        centers_rotation = halo_data[\"centered_rotation_radial_bins\"][:]\n",
    "        tree_data = file[f'{idx}'][\"tree_data\"]\n",
    "        Vmax = tree_data[\"Vmax\"][0]   \n",
    "        \n",
    "        idx = np.abs(rotation - Vmax).argmin()\n",
    "        Rmax = centers_rotation[idx] \n",
    "\n",
    "        if np.abs(rotation - Vmax).min()<1:\n",
    "            c_ok +=1\n",
    "            tree_data.require_dataset(f\"Rmax\", data=Rmax, shape=Rmax.shape, dtype=Rmax.dtype)\n",
    "       \n",
    "    print(f\"Rmax included for {c_ok} / {c_tot}\")\n",
    "    file.close()"
   ]
  },
  {
   "cell_type": "code",
   "execution_count": null,
   "id": "d7d46698",
   "metadata": {},
   "outputs": [],
   "source": []
  }
 ],
 "metadata": {
  "kernelspec": {
   "display_name": "tangoconda",
   "language": "python",
   "name": "python3"
  },
  "language_info": {
   "codemirror_mode": {
    "name": "ipython",
    "version": 3
   },
   "file_extension": ".py",
   "mimetype": "text/x-python",
   "name": "python",
   "nbconvert_exporter": "python",
   "pygments_lexer": "ipython3",
   "version": "3.9.13"
  }
 },
 "nbformat": 4,
 "nbformat_minor": 5
}
